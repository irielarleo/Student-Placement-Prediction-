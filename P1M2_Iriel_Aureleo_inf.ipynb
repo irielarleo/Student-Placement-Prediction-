{
 "cells": [
  {
   "cell_type": "markdown",
   "id": "35f36939",
   "metadata": {},
   "source": [
    "# **Import Libraries**"
   ]
  },
  {
   "cell_type": "code",
   "execution_count": 47,
   "id": "6ab113dd",
   "metadata": {},
   "outputs": [],
   "source": [
    "#Import Libraries\n",
    "import pandas as pd\n",
    "import numpy as np\n",
    "import joblib"
   ]
  },
  {
   "cell_type": "markdown",
   "id": "c2ac33f9",
   "metadata": {},
   "source": [
    "# **Load Model**"
   ]
  },
  {
   "cell_type": "code",
   "execution_count": 48,
   "id": "bd8f0da1",
   "metadata": {},
   "outputs": [],
   "source": [
    "#Load model\n",
    "model = joblib.load(\"deployment/bestmodel.pkl\")"
   ]
  },
  {
   "cell_type": "markdown",
   "id": "8fd495dd",
   "metadata": {},
   "source": [
    "# **Inferance**"
   ]
  },
  {
   "cell_type": "code",
   "execution_count": 49,
   "id": "20d2621e",
   "metadata": {},
   "outputs": [
    {
     "data": {
      "text/html": [
       "<div>\n",
       "<style scoped>\n",
       "    .dataframe tbody tr th:only-of-type {\n",
       "        vertical-align: middle;\n",
       "    }\n",
       "\n",
       "    .dataframe tbody tr th {\n",
       "        vertical-align: top;\n",
       "    }\n",
       "\n",
       "    .dataframe thead th {\n",
       "        text-align: right;\n",
       "    }\n",
       "</style>\n",
       "<table border=\"1\" class=\"dataframe\">\n",
       "  <thead>\n",
       "    <tr style=\"text-align: right;\">\n",
       "      <th></th>\n",
       "      <th>StudentID</th>\n",
       "      <th>CGPA</th>\n",
       "      <th>Internships</th>\n",
       "      <th>Projects</th>\n",
       "      <th>Workshops/Certifications</th>\n",
       "      <th>AptitudeTestScore</th>\n",
       "      <th>SoftSkillsRating</th>\n",
       "      <th>ExtracurricularActivities</th>\n",
       "      <th>PlacementTraining</th>\n",
       "      <th>SSC_Marks</th>\n",
       "      <th>HSC_Marks</th>\n",
       "    </tr>\n",
       "  </thead>\n",
       "  <tbody>\n",
       "    <tr>\n",
       "      <th>0</th>\n",
       "      <td>10001</td>\n",
       "      <td>8.9</td>\n",
       "      <td>2</td>\n",
       "      <td>3</td>\n",
       "      <td>3</td>\n",
       "      <td>80</td>\n",
       "      <td>4.8</td>\n",
       "      <td>Yes</td>\n",
       "      <td>No</td>\n",
       "      <td>78</td>\n",
       "      <td>80</td>\n",
       "    </tr>\n",
       "  </tbody>\n",
       "</table>\n",
       "</div>"
      ],
      "text/plain": [
       "   StudentID  CGPA  Internships  Projects  Workshops/Certifications  \\\n",
       "0      10001   8.9            2         3                         3   \n",
       "\n",
       "   AptitudeTestScore  SoftSkillsRating ExtracurricularActivities  \\\n",
       "0                 80               4.8                       Yes   \n",
       "\n",
       "  PlacementTraining  SSC_Marks  HSC_Marks  \n",
       "0                No         78         80  "
      ]
     },
     "execution_count": 49,
     "metadata": {},
     "output_type": "execute_result"
    }
   ],
   "source": [
    "# Data Inferens\n",
    "df = pd.DataFrame([\n",
    "    {\n",
    "        'StudentID': 10001,\n",
    "        'CGPA': 8.9,\n",
    "        'Internships': 2,\n",
    "        'Projects': 3,\n",
    "        'Workshops/Certifications': 3,\n",
    "        'AptitudeTestScore': 80,\n",
    "        'SoftSkillsRating': 4.8,\n",
    "        'ExtracurricularActivities': 'Yes',\n",
    "        'PlacementTraining' : 'No',\n",
    "        'SSC_Marks': 78,\n",
    "        'HSC_Marks': 80\n",
    "    },\n",
    "])\n",
    "\n",
    "df"
   ]
  },
  {
   "cell_type": "markdown",
   "id": "8411d7a5",
   "metadata": {},
   "source": [
    "# **Prediksi**"
   ]
  },
  {
   "cell_type": "code",
   "execution_count": 50,
   "id": "898978e6",
   "metadata": {},
   "outputs": [
    {
     "name": "stdout",
     "output_type": "stream",
     "text": [
      "Placed\n"
     ]
    }
   ],
   "source": [
    "predictions = model.predict(df)\n",
    "\n",
    "label_map = {1: 'Placed', 0: 'Not Placed'}\n",
    "label_output = label_map[predictions[0]]\n",
    "print(label_output)"
   ]
  }
 ],
 "metadata": {
  "kernelspec": {
   "display_name": "data_env",
   "language": "python",
   "name": "python3"
  },
  "language_info": {
   "codemirror_mode": {
    "name": "ipython",
    "version": 3
   },
   "file_extension": ".py",
   "mimetype": "text/x-python",
   "name": "python",
   "nbconvert_exporter": "python",
   "pygments_lexer": "ipython3",
   "version": "3.10.16"
  }
 },
 "nbformat": 4,
 "nbformat_minor": 5
}
